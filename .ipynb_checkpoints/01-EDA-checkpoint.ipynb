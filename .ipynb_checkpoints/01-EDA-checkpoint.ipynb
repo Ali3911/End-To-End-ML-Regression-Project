{
 "cells": [
  {
   "cell_type": "markdown",
   "id": "9157dade",
   "metadata": {},
   "source": [
    "# CRISP - DM Method (Cross-Industry Standard Process for Data Mining)\n",
    " The following mnemonic is what I use to remember the order of steps for CRISP - DM Method:\n",
    "- Barry - Business Understanding\n",
    "- Drove - Data Understanding\n",
    "- Directly to the - Data Prep\n",
    "- Medical - Modelling\n",
    "- Emergency  - Evaluation\n",
    "- Department - mDeployment "
   ]
  },
  {
   "cell_type": "markdown",
   "id": "dbf38e0a",
   "metadata": {},
   "source": [
    "## 1- Business Understanding\n",
    "\n",
    "**Scenario**\n",
    "- Business has approcahed with some data\n",
    "- They want us to use the data to __forecast transactions__\n",
    "- The data contains a list of accounting transactions\n",
    "- Data contains multiple revenue streams\n",
    "- They want us to make an __app that predict future transactions__\n",
    "- Data provided is for __3 years__\n",
    "- Advised data __quality__ is __okay__"
   ]
  },
  {
   "cell_type": "markdown",
   "id": "65fbfc39",
   "metadata": {},
   "source": [
    "## 2- Data Understanding\n",
    "\n",
    "- Lets import pandas library and evaluate the quality of the data at hand"
   ]
  },
  {
   "cell_type": "code",
   "execution_count": 1,
   "id": "d9920e9e",
   "metadata": {},
   "outputs": [],
   "source": [
    "import pandas as pd"
   ]
  },
  {
   "cell_type": "code",
   "execution_count": 2,
   "id": "6dddc742",
   "metadata": {},
   "outputs": [],
   "source": [
    "df = pd.read_csv('regression.csv')"
   ]
  },
  {
   "cell_type": "code",
   "execution_count": 4,
   "id": "9615ac0a",
   "metadata": {},
   "outputs": [
    {
     "data": {
      "text/html": [
       "<div>\n",
       "<style scoped>\n",
       "    .dataframe tbody tr th:only-of-type {\n",
       "        vertical-align: middle;\n",
       "    }\n",
       "\n",
       "    .dataframe tbody tr th {\n",
       "        vertical-align: top;\n",
       "    }\n",
       "\n",
       "    .dataframe thead th {\n",
       "        text-align: right;\n",
       "    }\n",
       "</style>\n",
       "<table border=\"1\" class=\"dataframe\">\n",
       "  <thead>\n",
       "    <tr style=\"text-align: right;\">\n",
       "      <th></th>\n",
       "      <th>Year</th>\n",
       "      <th>Month</th>\n",
       "      <th>Cost Centre</th>\n",
       "      <th>Account</th>\n",
       "      <th>Account Description</th>\n",
       "      <th>Account Type</th>\n",
       "      <th>Amount</th>\n",
       "    </tr>\n",
       "  </thead>\n",
       "  <tbody>\n",
       "    <tr>\n",
       "      <th>0</th>\n",
       "      <td>2019</td>\n",
       "      <td>Jan</td>\n",
       "      <td>CC100</td>\n",
       "      <td>1000000</td>\n",
       "      <td>Product Sales</td>\n",
       "      <td>Revenue</td>\n",
       "      <td>1344.051</td>\n",
       "    </tr>\n",
       "    <tr>\n",
       "      <th>1</th>\n",
       "      <td>2019</td>\n",
       "      <td>Jan</td>\n",
       "      <td>CC100</td>\n",
       "      <td>1000001</td>\n",
       "      <td>Licensing Revenue</td>\n",
       "      <td>Revenue</td>\n",
       "      <td>480.968</td>\n",
       "    </tr>\n",
       "    <tr>\n",
       "      <th>2</th>\n",
       "      <td>2019</td>\n",
       "      <td>Jan</td>\n",
       "      <td>CC100</td>\n",
       "      <td>1000002</td>\n",
       "      <td>Service Revenue</td>\n",
       "      <td>Revenue</td>\n",
       "      <td>650.820</td>\n",
       "    </tr>\n",
       "    <tr>\n",
       "      <th>3</th>\n",
       "      <td>2019</td>\n",
       "      <td>Jan</td>\n",
       "      <td>CC100</td>\n",
       "      <td>1000004</td>\n",
       "      <td>Fee Revenue</td>\n",
       "      <td>Revenue</td>\n",
       "      <td>339.360</td>\n",
       "    </tr>\n",
       "    <tr>\n",
       "      <th>4</th>\n",
       "      <td>2019</td>\n",
       "      <td>Jan</td>\n",
       "      <td>CC100</td>\n",
       "      <td>2000000</td>\n",
       "      <td>Cost of Good Sold</td>\n",
       "      <td>Expense</td>\n",
       "      <td>1125.328</td>\n",
       "    </tr>\n",
       "  </tbody>\n",
       "</table>\n",
       "</div>"
      ],
      "text/plain": [
       "   Year Month Cost Centre  Account Account Description Account Type    Amount\n",
       "0  2019   Jan       CC100  1000000       Product Sales      Revenue  1344.051\n",
       "1  2019   Jan       CC100  1000001   Licensing Revenue      Revenue   480.968\n",
       "2  2019   Jan       CC100  1000002     Service Revenue      Revenue   650.820\n",
       "3  2019   Jan       CC100  1000004         Fee Revenue      Revenue   339.360\n",
       "4  2019   Jan       CC100  2000000   Cost of Good Sold      Expense  1125.328"
      ]
     },
     "execution_count": 4,
     "metadata": {},
     "output_type": "execute_result"
    }
   ],
   "source": [
    "# Lets take a look at the first 5 rows of the data\n",
    "df.head()"
   ]
  },
  {
   "cell_type": "code",
   "execution_count": 5,
   "id": "8406ca1f",
   "metadata": {},
   "outputs": [
    {
     "data": {
      "text/html": [
       "<div>\n",
       "<style scoped>\n",
       "    .dataframe tbody tr th:only-of-type {\n",
       "        vertical-align: middle;\n",
       "    }\n",
       "\n",
       "    .dataframe tbody tr th {\n",
       "        vertical-align: top;\n",
       "    }\n",
       "\n",
       "    .dataframe thead th {\n",
       "        text-align: right;\n",
       "    }\n",
       "</style>\n",
       "<table border=\"1\" class=\"dataframe\">\n",
       "  <thead>\n",
       "    <tr style=\"text-align: right;\">\n",
       "      <th></th>\n",
       "      <th>Year</th>\n",
       "      <th>Month</th>\n",
       "      <th>Cost Centre</th>\n",
       "      <th>Account</th>\n",
       "      <th>Account Description</th>\n",
       "      <th>Account Type</th>\n",
       "      <th>Amount</th>\n",
       "    </tr>\n",
       "  </thead>\n",
       "  <tbody>\n",
       "    <tr>\n",
       "      <th>4207</th>\n",
       "      <td>2021</td>\n",
       "      <td>Dec</td>\n",
       "      <td>CC302</td>\n",
       "      <td>2000005</td>\n",
       "      <td>Purchases</td>\n",
       "      <td>Expense</td>\n",
       "      <td>698.121</td>\n",
       "    </tr>\n",
       "    <tr>\n",
       "      <th>4208</th>\n",
       "      <td>2021</td>\n",
       "      <td>Dec</td>\n",
       "      <td>CC302</td>\n",
       "      <td>3000000</td>\n",
       "      <td>Cash at Bank</td>\n",
       "      <td>Asset</td>\n",
       "      <td>-282.056</td>\n",
       "    </tr>\n",
       "    <tr>\n",
       "      <th>4209</th>\n",
       "      <td>2021</td>\n",
       "      <td>Dec</td>\n",
       "      <td>CC302</td>\n",
       "      <td>3000001</td>\n",
       "      <td>Inventory</td>\n",
       "      <td>Asset</td>\n",
       "      <td>537.478</td>\n",
       "    </tr>\n",
       "    <tr>\n",
       "      <th>4210</th>\n",
       "      <td>2021</td>\n",
       "      <td>Dec</td>\n",
       "      <td>CC302</td>\n",
       "      <td>3000002</td>\n",
       "      <td>Accounts Receivable</td>\n",
       "      <td>Asset</td>\n",
       "      <td>1152.680</td>\n",
       "    </tr>\n",
       "    <tr>\n",
       "      <th>4211</th>\n",
       "      <td>2021</td>\n",
       "      <td>Dec</td>\n",
       "      <td>CC302</td>\n",
       "      <td>4000001</td>\n",
       "      <td>Accounts Payable</td>\n",
       "      <td>Liability</td>\n",
       "      <td>-1020.000</td>\n",
       "    </tr>\n",
       "  </tbody>\n",
       "</table>\n",
       "</div>"
      ],
      "text/plain": [
       "      Year Month Cost Centre  Account  Account Description Account Type  \\\n",
       "4207  2021   Dec       CC302  2000005            Purchases      Expense   \n",
       "4208  2021   Dec       CC302  3000000         Cash at Bank        Asset   \n",
       "4209  2021   Dec       CC302  3000001            Inventory        Asset   \n",
       "4210  2021   Dec       CC302  3000002  Accounts Receivable        Asset   \n",
       "4211  2021   Dec       CC302  4000001     Accounts Payable    Liability   \n",
       "\n",
       "        Amount  \n",
       "4207   698.121  \n",
       "4208  -282.056  \n",
       "4209   537.478  \n",
       "4210  1152.680  \n",
       "4211 -1020.000  "
      ]
     },
     "execution_count": 5,
     "metadata": {},
     "output_type": "execute_result"
    }
   ],
   "source": [
    "# Lets take a look at the last 5 rows of the data\n",
    "df.tail()"
   ]
  },
  {
   "cell_type": "code",
   "execution_count": 7,
   "id": "1c8dda3a",
   "metadata": {},
   "outputs": [
    {
     "name": "stdout",
     "output_type": "stream",
     "text": [
      "<class 'pandas.core.frame.DataFrame'>\n",
      "RangeIndex: 4212 entries, 0 to 4211\n",
      "Data columns (total 7 columns):\n",
      " #   Column               Non-Null Count  Dtype  \n",
      "---  ------               --------------  -----  \n",
      " 0   Year                 4212 non-null   int64  \n",
      " 1   Month                4212 non-null   object \n",
      " 2   Cost Centre          4212 non-null   object \n",
      " 3   Account              4212 non-null   int64  \n",
      " 4   Account Description  4212 non-null   object \n",
      " 5   Account Type         4212 non-null   object \n",
      " 6   Amount               4212 non-null   float64\n",
      "dtypes: float64(1), int64(2), object(4)\n",
      "memory usage: 230.5+ KB\n"
     ]
    }
   ],
   "source": [
    "# Lets take a look at the info for each column\n",
    "df.info()"
   ]
  },
  {
   "cell_type": "markdown",
   "id": "01fa4a64",
   "metadata": {},
   "source": [
    "___\n",
    "### **Notes**\n",
    "- Looking at the head and tail of the data we can see that the data is from **2019-2021** (3 years of data)\n",
    "- As you can see that there are total of **7 columns**.\n",
    "- There are total of **4 categorical variables** (Month, Cost Centre, Account Description, Account type).\n",
    "- There are **3 numerical variables** (Year, Account, Amount)\n",
    "- From the data shown we can say for sure that **\"Amount\"** is our **dependent variable** aka **target variable** and rest of the other variables are **independent variables** aka **features**\n",
    "- another important thing as we can see is that there are no missing values in the data (woohhf saved a lot of time)"
   ]
  },
  {
   "cell_type": "code",
   "execution_count": 10,
   "id": "5c580b1b",
   "metadata": {},
   "outputs": [
    {
     "data": {
      "text/plain": [
       "Index(['Year', 'Month', 'Cost Centre', 'Account', 'Account Description',\n",
       "       'Account Type', 'Amount'],\n",
       "      dtype='object')"
      ]
     },
     "execution_count": 10,
     "metadata": {},
     "output_type": "execute_result"
    }
   ],
   "source": [
    "# Lets look for unique values in each columns to see how many categories do we have in each column\n",
    "# Lets get the names of the columns first\n",
    "df.columns"
   ]
  },
  {
   "cell_type": "code",
   "execution_count": 15,
   "id": "e35edacf",
   "metadata": {},
   "outputs": [
    {
     "data": {
      "text/plain": [
       "13"
      ]
     },
     "execution_count": 15,
     "metadata": {},
     "output_type": "execute_result"
    }
   ],
   "source": [
    "# Lets look for unique values in one of the columns first\n",
    "len(df['Account'].unique())"
   ]
  },
  {
   "cell_type": "code",
   "execution_count": 16,
   "id": "a1f7ff8a",
   "metadata": {},
   "outputs": [
    {
     "name": "stdout",
     "output_type": "stream",
     "text": [
      "Year 3 [2019 2020 2021]\n",
      "Month 12 ['Jan' 'Feb' 'Mar' 'Apr' 'May' 'Jun' 'Jul' 'Aug' 'Sep' 'Oct' 'Nov' 'Dec']\n",
      "Cost Centre 9 ['CC100' 'CC101' 'CC102' 'CC200' 'CC201' 'CC202' 'CC300' 'CC301' 'CC302']\n",
      "Account 13 [1000000 1000001 1000002 1000004 2000000 2000001 2000002 2000003 2000005\n",
      " 3000000 3000001 3000002 4000001]\n",
      "Account Description 13 ['Product Sales' 'Licensing Revenue' 'Service Revenue' 'Fee Revenue'\n",
      " 'Cost of Good Sold' 'Staff Expenses' 'Technology Expenses'\n",
      " 'Property Expenses' 'Purchases' 'Cash at Bank' 'Inventory'\n",
      " 'Accounts Receivable' 'Accounts Payable']\n",
      "Account Type 4 ['Revenue' 'Expense' 'Asset' 'Liability']\n",
      "Amount 3956 [1344.051  480.968  650.82  ... -282.056  537.478 1152.68 ]\n"
     ]
    }
   ],
   "source": [
    "# As you can see there are total 13 unique values in Account column\n",
    "# Now instead of doing this for every column manually lets iterate through every column to find the unique categories in each column\n",
    "for col in df.columns:\n",
    "    print(col, len(df[col].unique()), df[col].unique())"
   ]
  },
  {
   "cell_type": "markdown",
   "id": "4fc8bcd8",
   "metadata": {},
   "source": [
    "___\n",
    "### **Notes**\n",
    "- **Year** column has **3** unique categories\n",
    "- **Month** column has **12** unique categories\n",
    "- **Cost Centre** column has **9** unique Categories\n",
    "- **Account** column has **13** unique categories\n",
    "- **Account Descriptions** column has **13** unique categories\n",
    "- **Account Type** column has **4** unique categories\n",
    "- **Amount** column has **3956** unique values\n",
    "___\n",
    "\n",
    "### **Observation**\n",
    "- The **Month** column can be converted into a numerical column very easily\n",
    "- **Account** and **Account Description** columns seems similar, maybe we can drop one of the column, but we have to do further analysis to make sure we dont drop any column which can influesnce our model.\n",
    "- **Account Type** column can be OneHotEncoded very easily as well\n"
   ]
  },
  {
   "cell_type": "code",
   "execution_count": null,
   "id": "74454df0",
   "metadata": {},
   "outputs": [],
   "source": []
  }
 ],
 "metadata": {
  "kernelspec": {
   "display_name": "Python 3 (ipykernel)",
   "language": "python",
   "name": "python3"
  },
  "language_info": {
   "codemirror_mode": {
    "name": "ipython",
    "version": 3
   },
   "file_extension": ".py",
   "mimetype": "text/x-python",
   "name": "python",
   "nbconvert_exporter": "python",
   "pygments_lexer": "ipython3",
   "version": "3.9.7"
  }
 },
 "nbformat": 4,
 "nbformat_minor": 5
}
