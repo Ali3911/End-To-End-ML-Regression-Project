{
 "cells": [
  {
   "cell_type": "markdown",
   "id": "bde3438f",
   "metadata": {},
   "source": [
    "# CRISP - DM Method (Cross-Industry Standard Process for Data Mining)\n",
    " The following mnemonic is what I use to remember the order of steps for CRISP - DM Method:\n",
    "- Barry - Business Understanding\n",
    "- Drove - Data Understanding\n",
    "- Directly to the - Data Prep\n",
    "- Medical - Modelling\n",
    "- Emergency  - Evaluation\n",
    "- Department - mDeployment "
   ]
  },
  {
   "cell_type": "markdown",
   "id": "0f797f29",
   "metadata": {},
   "source": [
    "## 1- Business Understanding\n",
    "\n",
    "**Scenario**\n",
    "- Business has approcahed with some data\n",
    "- They want us to use the data to __forecast transactions__\n",
    "- The data contains a list of accounting transactions\n",
    "- Data contains multiple revenue streams\n",
    "- They want us to make an __app that predict future transactions__\n",
    "- Data provided is for __3 years__\n",
    "- Advised data __quality__ is __okay__"
   ]
  },
  {
   "cell_type": "markdown",
   "id": "c6bc925a",
   "metadata": {},
   "source": [
    "## 2- Data Understanding\n",
    "\n",
    "- Lets import pandas library and evaluate the quality of the data at hand"
   ]
  },
  {
   "cell_type": "code",
   "execution_count": 1,
   "id": "9f6a8d3a",
   "metadata": {},
   "outputs": [],
   "source": [
    "import pandas as pd"
   ]
  },
  {
   "cell_type": "code",
   "execution_count": 2,
   "id": "ba6bf0ad",
   "metadata": {},
   "outputs": [],
   "source": [
    "df = pd.read_csv('regression.csv')"
   ]
  },
  {
   "cell_type": "code",
   "execution_count": 4,
   "id": "057dce28",
   "metadata": {},
   "outputs": [
    {
     "data": {
      "text/html": [
       "<div>\n",
       "<style scoped>\n",
       "    .dataframe tbody tr th:only-of-type {\n",
       "        vertical-align: middle;\n",
       "    }\n",
       "\n",
       "    .dataframe tbody tr th {\n",
       "        vertical-align: top;\n",
       "    }\n",
       "\n",
       "    .dataframe thead th {\n",
       "        text-align: right;\n",
       "    }\n",
       "</style>\n",
       "<table border=\"1\" class=\"dataframe\">\n",
       "  <thead>\n",
       "    <tr style=\"text-align: right;\">\n",
       "      <th></th>\n",
       "      <th>Year</th>\n",
       "      <th>Month</th>\n",
       "      <th>Cost Centre</th>\n",
       "      <th>Account</th>\n",
       "      <th>Account Description</th>\n",
       "      <th>Account Type</th>\n",
       "      <th>Amount</th>\n",
       "    </tr>\n",
       "  </thead>\n",
       "  <tbody>\n",
       "    <tr>\n",
       "      <th>0</th>\n",
       "      <td>2019</td>\n",
       "      <td>Jan</td>\n",
       "      <td>CC100</td>\n",
       "      <td>1000000</td>\n",
       "      <td>Product Sales</td>\n",
       "      <td>Revenue</td>\n",
       "      <td>1344.051</td>\n",
       "    </tr>\n",
       "    <tr>\n",
       "      <th>1</th>\n",
       "      <td>2019</td>\n",
       "      <td>Jan</td>\n",
       "      <td>CC100</td>\n",
       "      <td>1000001</td>\n",
       "      <td>Licensing Revenue</td>\n",
       "      <td>Revenue</td>\n",
       "      <td>480.968</td>\n",
       "    </tr>\n",
       "    <tr>\n",
       "      <th>2</th>\n",
       "      <td>2019</td>\n",
       "      <td>Jan</td>\n",
       "      <td>CC100</td>\n",
       "      <td>1000002</td>\n",
       "      <td>Service Revenue</td>\n",
       "      <td>Revenue</td>\n",
       "      <td>650.820</td>\n",
       "    </tr>\n",
       "    <tr>\n",
       "      <th>3</th>\n",
       "      <td>2019</td>\n",
       "      <td>Jan</td>\n",
       "      <td>CC100</td>\n",
       "      <td>1000004</td>\n",
       "      <td>Fee Revenue</td>\n",
       "      <td>Revenue</td>\n",
       "      <td>339.360</td>\n",
       "    </tr>\n",
       "    <tr>\n",
       "      <th>4</th>\n",
       "      <td>2019</td>\n",
       "      <td>Jan</td>\n",
       "      <td>CC100</td>\n",
       "      <td>2000000</td>\n",
       "      <td>Cost of Good Sold</td>\n",
       "      <td>Expense</td>\n",
       "      <td>1125.328</td>\n",
       "    </tr>\n",
       "  </tbody>\n",
       "</table>\n",
       "</div>"
      ],
      "text/plain": [
       "   Year Month Cost Centre  Account Account Description Account Type    Amount\n",
       "0  2019   Jan       CC100  1000000       Product Sales      Revenue  1344.051\n",
       "1  2019   Jan       CC100  1000001   Licensing Revenue      Revenue   480.968\n",
       "2  2019   Jan       CC100  1000002     Service Revenue      Revenue   650.820\n",
       "3  2019   Jan       CC100  1000004         Fee Revenue      Revenue   339.360\n",
       "4  2019   Jan       CC100  2000000   Cost of Good Sold      Expense  1125.328"
      ]
     },
     "execution_count": 4,
     "metadata": {},
     "output_type": "execute_result"
    }
   ],
   "source": [
    "# Lets take a look at the first 5 rows of the data\n",
    "df.head()"
   ]
  },
  {
   "cell_type": "code",
   "execution_count": 5,
   "id": "cd5ce377",
   "metadata": {},
   "outputs": [
    {
     "data": {
      "text/html": [
       "<div>\n",
       "<style scoped>\n",
       "    .dataframe tbody tr th:only-of-type {\n",
       "        vertical-align: middle;\n",
       "    }\n",
       "\n",
       "    .dataframe tbody tr th {\n",
       "        vertical-align: top;\n",
       "    }\n",
       "\n",
       "    .dataframe thead th {\n",
       "        text-align: right;\n",
       "    }\n",
       "</style>\n",
       "<table border=\"1\" class=\"dataframe\">\n",
       "  <thead>\n",
       "    <tr style=\"text-align: right;\">\n",
       "      <th></th>\n",
       "      <th>Year</th>\n",
       "      <th>Month</th>\n",
       "      <th>Cost Centre</th>\n",
       "      <th>Account</th>\n",
       "      <th>Account Description</th>\n",
       "      <th>Account Type</th>\n",
       "      <th>Amount</th>\n",
       "    </tr>\n",
       "  </thead>\n",
       "  <tbody>\n",
       "    <tr>\n",
       "      <th>4207</th>\n",
       "      <td>2021</td>\n",
       "      <td>Dec</td>\n",
       "      <td>CC302</td>\n",
       "      <td>2000005</td>\n",
       "      <td>Purchases</td>\n",
       "      <td>Expense</td>\n",
       "      <td>698.121</td>\n",
       "    </tr>\n",
       "    <tr>\n",
       "      <th>4208</th>\n",
       "      <td>2021</td>\n",
       "      <td>Dec</td>\n",
       "      <td>CC302</td>\n",
       "      <td>3000000</td>\n",
       "      <td>Cash at Bank</td>\n",
       "      <td>Asset</td>\n",
       "      <td>-282.056</td>\n",
       "    </tr>\n",
       "    <tr>\n",
       "      <th>4209</th>\n",
       "      <td>2021</td>\n",
       "      <td>Dec</td>\n",
       "      <td>CC302</td>\n",
       "      <td>3000001</td>\n",
       "      <td>Inventory</td>\n",
       "      <td>Asset</td>\n",
       "      <td>537.478</td>\n",
       "    </tr>\n",
       "    <tr>\n",
       "      <th>4210</th>\n",
       "      <td>2021</td>\n",
       "      <td>Dec</td>\n",
       "      <td>CC302</td>\n",
       "      <td>3000002</td>\n",
       "      <td>Accounts Receivable</td>\n",
       "      <td>Asset</td>\n",
       "      <td>1152.680</td>\n",
       "    </tr>\n",
       "    <tr>\n",
       "      <th>4211</th>\n",
       "      <td>2021</td>\n",
       "      <td>Dec</td>\n",
       "      <td>CC302</td>\n",
       "      <td>4000001</td>\n",
       "      <td>Accounts Payable</td>\n",
       "      <td>Liability</td>\n",
       "      <td>-1020.000</td>\n",
       "    </tr>\n",
       "  </tbody>\n",
       "</table>\n",
       "</div>"
      ],
      "text/plain": [
       "      Year Month Cost Centre  Account  Account Description Account Type  \\\n",
       "4207  2021   Dec       CC302  2000005            Purchases      Expense   \n",
       "4208  2021   Dec       CC302  3000000         Cash at Bank        Asset   \n",
       "4209  2021   Dec       CC302  3000001            Inventory        Asset   \n",
       "4210  2021   Dec       CC302  3000002  Accounts Receivable        Asset   \n",
       "4211  2021   Dec       CC302  4000001     Accounts Payable    Liability   \n",
       "\n",
       "        Amount  \n",
       "4207   698.121  \n",
       "4208  -282.056  \n",
       "4209   537.478  \n",
       "4210  1152.680  \n",
       "4211 -1020.000  "
      ]
     },
     "execution_count": 5,
     "metadata": {},
     "output_type": "execute_result"
    }
   ],
   "source": [
    "# Lets take a look at the last 5 rows of the data\n",
    "df.tail()"
   ]
  },
  {
   "cell_type": "code",
   "execution_count": 7,
   "id": "cf2e2cc8",
   "metadata": {},
   "outputs": [
    {
     "name": "stdout",
     "output_type": "stream",
     "text": [
      "<class 'pandas.core.frame.DataFrame'>\n",
      "RangeIndex: 4212 entries, 0 to 4211\n",
      "Data columns (total 7 columns):\n",
      " #   Column               Non-Null Count  Dtype  \n",
      "---  ------               --------------  -----  \n",
      " 0   Year                 4212 non-null   int64  \n",
      " 1   Month                4212 non-null   object \n",
      " 2   Cost Centre          4212 non-null   object \n",
      " 3   Account              4212 non-null   int64  \n",
      " 4   Account Description  4212 non-null   object \n",
      " 5   Account Type         4212 non-null   object \n",
      " 6   Amount               4212 non-null   float64\n",
      "dtypes: float64(1), int64(2), object(4)\n",
      "memory usage: 230.5+ KB\n"
     ]
    }
   ],
   "source": [
    "# Lets take a look at the info for each column\n",
    "df.info()"
   ]
  },
  {
   "cell_type": "markdown",
   "id": "eec90d97",
   "metadata": {},
   "source": [
    "- Looking at the head and tail of the data we can see that the dat is from **2019-2021** (3 years of data)\n",
    "- As you can see that there are total of **7 columns**.\n",
    "- There are total of **4 categorical variables** (Month, Cost Centre, Account Description, Account type).\n",
    "- There are **3 numerical variables** (Year, Account, Amount)\n",
    "- From the data shown we can say for sure that **\"Amount\"** is our **dependent variable** aka **target variable** and rest of the other variables are **independent variables** aka **features**\n",
    "- another important thing as we can see is that there are no missing values in the data (woohhf saved a lot of time)"
   ]
  },
  {
   "cell_type": "code",
   "execution_count": null,
   "id": "379aabaa",
   "metadata": {},
   "outputs": [],
   "source": [
    "# Lets see if we have any duplication of data\n"
   ]
  }
 ],
 "metadata": {
  "kernelspec": {
   "display_name": "Python 3 (ipykernel)",
   "language": "python",
   "name": "python3"
  },
  "language_info": {
   "codemirror_mode": {
    "name": "ipython",
    "version": 3
   },
   "file_extension": ".py",
   "mimetype": "text/x-python",
   "name": "python",
   "nbconvert_exporter": "python",
   "pygments_lexer": "ipython3",
   "version": "3.9.7"
  }
 },
 "nbformat": 4,
 "nbformat_minor": 5
}
